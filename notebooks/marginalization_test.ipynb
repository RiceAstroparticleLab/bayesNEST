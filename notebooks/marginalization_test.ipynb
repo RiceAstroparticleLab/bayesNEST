{
 "cells": [
  {
   "cell_type": "code",
   "execution_count": 1,
   "metadata": {},
   "outputs": [
    {
     "name": "stdout",
     "output_type": "stream",
     "text": [
      "env: PATH=/home/juehang/.conda/envs/numpyro_gpu/bin:/opt/conda/envs/jupyterhub/bin:/opt/conda/condabin:/usr/local/sbin:/usr/local/bin:/usr/sbin:/usr/bin:/sbin:/bin:/usr/games:/usr/local/games:/snap/bin\n"
     ]
    }
   ],
   "source": [
    "import os\n",
    "# os.environ[\"XLA_FLAGS\"] = '--xla_force_host_platform_device_count=4'\n",
    "PATH = os.getenv('PATH')\n",
    "%env PATH=/home/juehang/.conda/envs/numpyro_gpu/bin:$PATH\n",
    "os.environ[\"XLA_PYTHON_CLIENT_MEM_FRACTION\"] = '0.5'"
   ]
  },
  {
   "cell_type": "code",
   "execution_count": 2,
   "metadata": {},
   "outputs": [
    {
     "data": {
      "text/plain": [
       "1"
      ]
     },
     "execution_count": 2,
     "metadata": {},
     "output_type": "execute_result"
    }
   ],
   "source": [
    "1"
   ]
  },
  {
   "cell_type": "code",
   "execution_count": 3,
   "metadata": {},
   "outputs": [],
   "source": [
    "from functools import partial\n",
    "import numpy as np\n",
    "import scipy.stats as spystats\n",
    "import corner\n",
    "import arviz as az\n",
    "import matplotlib as mpl\n",
    "import matplotlib.cm as cm\n",
    "import matplotlib.pyplot as plt\n",
    "from tqdm import tqdm\n",
    "\n",
    "# JAX imports\n",
    "import jax\n",
    "from jax import config, jit, lax, random\n",
    "config.update(\"jax_enable_x64\", True)\n",
    "import jax.numpy as jnp\n",
    "from jax.scipy import stats\n",
    "from jax.scipy.special import ndtri, erf, gammaln, ndtr\n",
    "from jax.experimental import sparse\n",
    "\n",
    "# Numpyro and related imports\n",
    "import numpyro\n",
    "from numpyro.infer.reparam import LocScaleReparam\n",
    "from numpyro import infer\n",
    "import numpyro.distributions as ndist\n",
    "\n",
    "# Tensorflow Probability (TFP) imports\n",
    "from tensorflow_probability.substrates import jax as tfp\n"
   ]
  },
  {
   "cell_type": "code",
   "execution_count": 4,
   "metadata": {},
   "outputs": [],
   "source": [
    "device_cpu = jax.devices('cpu')[0]\n",
    "device_gpu = jax.devices('gpu')[1]\n",
    "jax.config.update(\"jax_default_device\", device_gpu)\n",
    "numpyro.set_platform('gpu')\n",
    "numpyro.set_host_device_count(4)"
   ]
  },
  {
   "cell_type": "code",
   "execution_count": 5,
   "metadata": {},
   "outputs": [],
   "source": [
    "# Global vars\n",
    "sqrt2 = np.sqrt(2)\n",
    "inv_sqrt2_PI = 1/np.sqrt(2*jnp.pi)"
   ]
  },
  {
   "cell_type": "code",
   "execution_count": 6,
   "metadata": {},
   "outputs": [],
   "source": [
    "class SkewNormal(ndist.Distribution):\n",
    "    \"\"\"\n",
    "    Implementation of the Skew Normal distribution.\n",
    "\n",
    "    Attributes\n",
    "    ----------\n",
    "    arg_constraints : dict\n",
    "        A dictionary indicating the constraints for the distribution parameters.\n",
    "    support : ndist.constraints.real\n",
    "        The real value support for the distribution.\n",
    "    reparametrized_params : list\n",
    "        List of reparametrized parameters.\n",
    "    loc : scalar or array, optional\n",
    "        Location parameter, default is 0.0.\n",
    "    scale : scalar or array, optional\n",
    "        Scale parameter, default is 1.0.\n",
    "    skew : scalar or array, optional\n",
    "        Skew parameter, default is 0.\n",
    "    validate_args : bool, optional\n",
    "        If true, distribution parameters are checked for validity despite possibly degrading runtime performance, default is None.\n",
    "\n",
    "    Methods\n",
    "    -------\n",
    "    __init__(self, loc=0.0, scale=1.0, skew=0, *, validate_args=None)\n",
    "        Constructor method.\n",
    "    sample(self, key, sample_shape=())\n",
    "        Draw samples from the distribution.\n",
    "    log_prob(self, value)\n",
    "        Compute the log probability density function at a given point.\n",
    "    cdf(self, value)\n",
    "        Compute the cumulative distribution function at a given point.\n",
    "    log_cdf(self, value)\n",
    "        Compute the log of the cumulative distribution function at a given point.\n",
    "    mean(self)\n",
    "        Compute the expected value of the distribution.\n",
    "    variance(self)\n",
    "        Compute the variance of the distribution.\n",
    "\n",
    "    \"\"\"\n",
    "\n",
    "    arg_constraints = {\"loc\": ndist.constraints.real, \"scale\": ndist.constraints.positive, \"skew\": ndist.constraints.real}\n",
    "    support = ndist.constraints.real\n",
    "    reparametrized_params = [\"loc\", \"scale\"]\n",
    "\n",
    "    def __init__(self, loc=0.0, scale=1.0, skew=0, *, validate_args=None):\n",
    "        batch_shape = lax.broadcast_shapes(jnp.shape(loc), jnp.shape(scale), jnp.shape(skew))\n",
    "        self.loc, self.scale, self.skew = ndist.util.promote_shapes(loc, scale, skew, shape=batch_shape)\n",
    "        self._delta = self.skew/jnp.sqrt(1 + self.skew**2)\n",
    "        super(SkewNormal, self).__init__(\n",
    "            batch_shape=batch_shape, validate_args=validate_args\n",
    "        )\n",
    "\n",
    "    def sample(self, key, sample_shape=()):\n",
    "        assert numpyro.util.is_prng_key(key)\n",
    "        eps = spystats.skewnorm.rvs(\n",
    "            self.skew, size=sample_shape + self.batch_shape + self.event_shape, random_state=np.random.RandomState(key)\n",
    "        )\n",
    "        return self.loc + eps * self.scale\n",
    "\n",
    "    @ndist.util.validate_sample\n",
    "    def log_prob(self, value):\n",
    "        normalize_term = jnp.log(0.5*jnp.sqrt(2 * jnp.pi) * self.scale)\n",
    "        value_scaled = (value - self.loc) / self.scale\n",
    "        return -0.5 * value_scaled**2 - normalize_term + stats.norm.logcdf(self.skew*value_scaled)\n",
    "\n",
    "    def cdf(self, value):\n",
    "        scaled = (value - self.loc) / self.scale\n",
    "        return ndtr(scaled) - 2*tfp.math.owens_t(scaled, self.skew)\n",
    "\n",
    "    def log_cdf(self, value):\n",
    "        return jnp.log(self.cdf(value))\n",
    "\n",
    "#     def icdf(self, q):\n",
    "#         return self.loc + self.scale * ndtri(q)\n",
    "\n",
    "    @property\n",
    "    def mean(self):\n",
    "        return jnp.broadcast_to(self.loc + self.scale*self._delta*jnp.sqrt(2/jnp.pi), self.batch_shape)\n",
    "\n",
    "    @property\n",
    "    def variance(self):\n",
    "        return jnp.broadcast_to(self.scale**2*(1 - 2*self._delta**2/jnp.pi), self.batch_shape)"
   ]
  },
  {
   "cell_type": "code",
   "execution_count": 7,
   "metadata": {},
   "outputs": [
    {
     "name": "stderr",
     "output_type": "stream",
     "text": [
      "2023-11-22 09:55:16.127186: W external/xla/xla/service/gpu/nvptx_compiler.cc:679] The NVIDIA driver's CUDA version is 11.2 which is older than the ptxas CUDA version (11.8.89). Because the driver is older than the ptxas version, XLA is disabling parallel compilation, which may slow down compilation. You should update your NVIDIA driver or use the NVIDIA-provided CUDA forward compatibility packages.\n"
     ]
    }
   ],
   "source": [
    "@jit\n",
    "def DiscreteNormalPs(loc, scale, bin_edges=(jnp.linspace(-0,201,202)-0.5)):\n",
    "    \"\"\"\n",
    "    Computes the probability mass function of a discretized Normal distribution.\n",
    "    \n",
    "    This function calculates the difference between the cumulative distribution function (CDF) values at \n",
    "    given bin edges and then normalizes these probabilities.\n",
    "\n",
    "    Parameters:\n",
    "    loc (float): The mean (mu) of the Normal distribution.\n",
    "    scale (float): The standard deviation (sigma) of the Normal distribution.\n",
    "    bin_edges (array_like): The array containing the edges of the bins. Default is an array of shape (202, 1)\n",
    "                             with values ranging from -0.5 to 200.5.\n",
    "\n",
    "    Returns:\n",
    "    array_like: A transposed version of the normalized PDF values corresponding to the given bin edges.\n",
    "    \"\"\"\n",
    "\n",
    "    # Calculate the differences in CDF values for the provided bin edges\n",
    "    cdf = stats.norm.cdf(bin_edges[:, jnp.newaxis],loc,scale)\n",
    "    ps = jnp.diff(cdf, axis=0)\n",
    "\n",
    "    # Obtain the machine limits for floating point types\n",
    "    # finfo = jnp.finfo(jnp.result_type(ps, float))\n",
    "\n",
    "    # Clip the calculated probabilities to avoid underflow or overflow issues\n",
    "    # ps = jnp.clip(ps, a_min=finfo.eps, a_max=1.0 - finfo.eps)\n",
    "\n",
    "    # Normalize and return the probabilities so that their sum is 1\n",
    "    return ps/(1-cdf[0,:])"
   ]
  },
  {
   "cell_type": "code",
   "execution_count": 8,
   "metadata": {},
   "outputs": [],
   "source": [
    "@jit\n",
    "def DiscreteSkewNormalPs(loc, scale, skew, bin_edges=(jnp.linspace(-0,201,202)-0.5)):\n",
    "    \"\"\"\n",
    "    Computes the probability mass function (pmf) for a discretized version of the Skew Normal distribution.\n",
    "\n",
    "    Parameters\n",
    "    ----------\n",
    "    loc : scalar or array\n",
    "        Location parameter of the Skew Normal distribution.\n",
    "    scale : scalar or array\n",
    "        Scale parameter of the Skew Normal distribution.\n",
    "    skew : scalar or array\n",
    "        Skew parameter of the Skew Normal distribution.\n",
    "    bin_edges : array, optional\n",
    "        The bin edges for the discretization of the Skew Normal distribution. \n",
    "        Default is a linspace from -0 to 201 with 202 points reshaped into a column vector.\n",
    "\n",
    "    Returns\n",
    "    -------\n",
    "    ps : array\n",
    "        The pmf values corresponding to each bin edge, normalized such that the sum across all bins is 1.\n",
    "\n",
    "    Notes\n",
    "    -----\n",
    "    This function works by first creating a Skew Normal distribution with the given parameters. \n",
    "    Then it computes the cumulative distribution function (cdf) at each bin edge, and takes the differences \n",
    "    to find the probability mass in each bin. The resulting pmf is then normalized so that its total mass is 1.\n",
    "\n",
    "    \"\"\"\n",
    "\n",
    "    skew_normal = SkewNormal(loc, scale, skew)\n",
    "    cdf = skew_normal.cdf(bin_edges[:, jnp.newaxis])\n",
    "    ps = jnp.diff(cdf, axis=0)\n",
    "    # finfo = jnp.finfo(jnp.result_type(ps, float))\n",
    "    # ps = jnp.clip(ps, a_min=finfo.eps, a_max=1.0 - finfo.eps)\n",
    "    return ps/(1-cdf[0,:])"
   ]
  },
  {
   "cell_type": "code",
   "execution_count": 9,
   "metadata": {},
   "outputs": [
    {
     "data": {
      "image/png": "[encoded data removed]",
      "text/plain": [
       "<Figure size 800x600 with 1 Axes>"
      ]
     },
     "metadata": {},
     "output_type": "display_data"
    }
   ],
   "source": [
    "fig = plt.figure(figsize=(8,6))\n",
    "ax = fig.add_subplot(111)\n",
    "x_plot = np.linspace(-0.5,3, 100)\n",
    "spstat_rv = spystats.skewnorm(8, 1, 0.5)\n",
    "my_rv = SkewNormal(1, 0.5, 8)\n",
    "ax.plot(x_plot, jnp.exp(spstat_rv.logpdf(x_plot)))\n",
    "ax.plot(x_plot, jnp.exp(my_rv.log_prob(x_plot)))\n",
    "ax.hist(my_rv.sample(jax.random.PRNGKey(42), sample_shape=(10000,)), density=True, bins=x_plot)\n",
    "skew_hist = ax.hist((SkewNormal(0, 1, 8).sample(jax.random.PRNGKey(42), sample_shape=(10000,))*0.5+1), density=True, bins=x_plot)\n",
    "empirical_cdf = jnp.cumsum(skew_hist[0])\n",
    "ax.step(x_plot[1:], empirical_cdf/empirical_cdf[-1])\n",
    "ax.plot(x_plot, my_rv.cdf(x_plot))\n",
    "plt.show()"
   ]
  },
  {
   "cell_type": "code",
   "execution_count": 10,
   "metadata": {},
   "outputs": [],
   "source": [
    "@jit\n",
    "def fano_ER(mean_N_q, E_field, density):\n",
    "    \"\"\"\n",
    "    Calculates the a Fano-like factor to determine the variance of quanta generation.\n",
    "\n",
    "    Parameters\n",
    "    ----------\n",
    "    mean_N_q : scalar or array\n",
    "        Mean number of quanta produced per event.\n",
    "    E_field : scalar or array\n",
    "        Electric field strength in the detector.\n",
    "    density : scalar or array\n",
    "        Density of the detector material.\n",
    "\n",
    "    Returns\n",
    "    -------\n",
    "    Fano factor : scalar or array\n",
    "        The calculated Fano factor based on the input parameters.\n",
    "    \n",
    "    \"\"\"\n",
    "\n",
    "    return (0.13 - 0.030*density - 0.0057*density**2 + 0.0016*density**3 + 0.0015*jnp.sqrt(mean_N_q*E_field))"
   ]
  },
  {
   "cell_type": "code",
   "execution_count": 11,
   "metadata": {},
   "outputs": [],
   "source": [
    "@partial(jax.jit, static_argnums=(1,2,3,4))\n",
    "def workfunction(density, molar_mass=131.293, avo=6.02214076e23, atom_num=54, old_13eV=1.1716263232):\n",
    "    alpha = 0.067366 + density * 0.039693\n",
    "    eDensity = (density / molar_mass) * avo * atom_num\n",
    "    return old_13eV*(18.7263 - 1.01e-23 * eDensity), alpha"
   ]
  },
  {
   "cell_type": "code",
   "execution_count": 12,
   "metadata": {},
   "outputs": [],
   "source": [
    "def calculate_yield_parameters(E_field):\n",
    "    m01 = 30.66 + (6.1978 - 30.66) / (1. + (E_field / 73.855)**2.0318)**0.41883\n",
    "    m02 = 77.2931084\n",
    "    m03 = jnp.log10(E_field) * 0.13946236 + 0.52561312\n",
    "    m04 = 1.82217496 + (2.82528809 - 1.82217496) / (1. + (E_field / 144.65029656)**-2.80532006)\n",
    "    # m05 = Nq / energy / (1. + alpha * erf(0.05 * E)) - m01\n",
    "    m07 = 7.02921301 + (98.27936794 - 7.02921301) / (1. + (E_field / 256.48156448)**1.29119251)\n",
    "    m08 = 4.285781736\n",
    "    m09 = 0.3344049589\n",
    "    m10 = 0.0508273937 + (0.1166087199 - 0.0508273937) / (1. + (E_field / 1.39260460e+02)**-0.65763592)\n",
    "    return m01, m02, m03, m04, m07, m08, m09, m10"
   ]
  },
  {
   "cell_type": "code",
   "execution_count": 13,
   "metadata": {},
   "outputs": [],
   "source": [
    "@jit\n",
    "def get_yields_beta(E, density, exciton_ion_ratio, W, m01=7.096208, m02=77.2931084, m03=0.7155229, m04=1.8279102, m07=94.39740941928082, m08=4.285781736, m09=0.3344049589, m10=0.06623858):\n",
    "    \"\"\"\n",
    "    Calculates the yields of quanta, electrons and photons for beta radiation in a detector.\n",
    "\n",
    "    Parameters\n",
    "    ----------\n",
    "    E : scalar or array\n",
    "        Energy of the incident beta radiation.\n",
    "    density : scalar or array\n",
    "        Density of the detector material.\n",
    "    exciton_ion_ratio : scalar\n",
    "        Ratio of excitons to ions produced in the detector.\n",
    "    W : scalar\n",
    "        Average energy required to produce an electron-ion pair.\n",
    "    m01, m02, m03, m04, m07, m08, m09, m10 : scalars\n",
    "        Parameter values used in the empirical formula for calculating yields.\n",
    "\n",
    "    Returns\n",
    "    -------\n",
    "    mean_N_q : scalar or array\n",
    "        Mean number of quanta produced per event.\n",
    "    Ne : scalar or array\n",
    "        Number of electrons produced.\n",
    "    Nph : scalar or array\n",
    "        Number of photons produced.\n",
    "\n",
    "    Notes\n",
    "    -----\n",
    "    This function calculates the yields of quanta, electrons and photons produced by beta radiation \n",
    "    in LXe based on the energy of the incident radiation, the density of the detector material, \n",
    "    and the ratio of excitons to ions produced.\n",
    "    \"\"\"\n",
    "    m05 = 1/W/(1 + exciton_ion_ratio) - m01\n",
    "    Qy = m01 + (m02 - m01) / ((1. + (E / m03)**m04))**m09 + m05 + (0.0 - m05) / ((1. + (E / m07)**m08))**m10\n",
    "    mean_N_q = E/W*1e3\n",
    "    Ly = mean_N_q / E - Qy\n",
    "    Ne = Qy * E\n",
    "    Nph = Ly * E\n",
    "    return mean_N_q, Ne, Nph"
   ]
  },
  {
   "cell_type": "code",
   "execution_count": 14,
   "metadata": {},
   "outputs": [
    {
     "data": {
      "text/plain": [
       "(Array(13.55174716, dtype=float64, weak_type=True),\n",
       " Array(0.18096737, dtype=float64, weak_type=True))"
      ]
     },
     "execution_count": 14,
     "metadata": {},
     "output_type": "execute_result"
    }
   ],
   "source": [
    "workfunction(2.862)"
   ]
  },
  {
   "cell_type": "code",
   "execution_count": 15,
   "metadata": {},
   "outputs": [
    {
     "data": {
      "text/plain": [
       "(14.886655774004309,\n",
       " 77.2931084,\n",
       " Array(0.80453784, dtype=float64),\n",
       " 2.0849941919488195,\n",
       " 77.41835364537435,\n",
       " 4.285781736,\n",
       " 0.3344049589,\n",
       " 0.08015046785739921)"
      ]
     },
     "execution_count": 15,
     "metadata": {},
     "output_type": "execute_result"
    }
   ],
   "source": [
    "calculate_yield_parameters(100)"
   ]
  },
  {
   "cell_type": "code",
   "execution_count": 16,
   "metadata": {},
   "outputs": [],
   "source": [
    "def Nei_ratio(E, density, alpha):\n",
    "    \"\"\"\n",
    "    Calculates the ratio of the number of electrons to ions for a given energy and material density.\n",
    "\n",
    "    Parameters\n",
    "    ----------\n",
    "    E : scalar or array\n",
    "        Energy of the incident radiation.\n",
    "    density : scalar or array\n",
    "        Density of the detector material.\n",
    "\n",
    "    Returns\n",
    "    -------\n",
    "    Nei_ratio : scalar or array\n",
    "        The ratio of the number of electrons to ions.\n",
    "\n",
    "    Notes\n",
    "    -----\n",
    "    This function calculates the ratio of the number of electrons to ions produced by \n",
    "    ERs.\n",
    "    \"\"\"\n",
    "\n",
    "    return alpha*erf(0.05*E)"
   ]
  },
  {
   "cell_type": "code",
   "execution_count": 17,
   "metadata": {},
   "outputs": [
    {
     "data": {
      "text/plain": [
       "11.57178257104339"
      ]
     },
     "execution_count": 17,
     "metadata": {},
     "output_type": "execute_result"
    }
   ],
   "source": [
    "18.7263 - 1.01e-23*(2.86/131.293*6.022e23*54)"
   ]
  },
  {
   "cell_type": "code",
   "execution_count": 18,
   "metadata": {},
   "outputs": [],
   "source": [
    "@jit\n",
    "def recom_omega_ER(E_field, elecFrac, width_param_7=0.046452, width_param_8=0.205, width_param_9=0.45, width_param_10=-0.2):\n",
    "    '''\n",
    "    This function calculates the omega parameter for electron recoil (ER) events based on certain input parameters.\n",
    "    \n",
    "    Parameters\n",
    "    ----------\n",
    "    E_field : float \n",
    "        The electric field value.\n",
    "    elecFrac : float \n",
    "        The fraction of energy deposited by electrons.\n",
    "    width_param_7 : float, optional \n",
    "        Parameter A from Table VI of https://arxiv.org/pdf/2211.10726.pdf; default is 0.046452.\n",
    "    width_param_8 : float, optional \n",
    "        Omega parameter from Table VI of https://arxiv.org/pdf/2211.10726.pdf; default is 0.205.\n",
    "    width_param_9 : float, optional \n",
    "        Xi parameter from Table VI of https://arxiv.org/pdf/2211.10726.pdf; default is 0.45.\n",
    "    width_param_10 : float, optional \n",
    "        Skewness parameter; default is -0.2.\n",
    "\n",
    "    Returns\n",
    "    -------\n",
    "    omega : float \n",
    "        The calculated omega parameter for ER events.\n",
    "    width_param_10 : float \n",
    "        The skewness parameter.\n",
    "\n",
    "    Notes\n",
    "    -----\n",
    "    The function uses the provided parameters to calculate the value of omega for ER events. It also returns the skewness parameter.\n",
    "    '''\n",
    "    A = 0.086036 + (width_param_7 - 0.086036) / (1 + (E_field/295.2)**251.6)**0.0069114\n",
    "    wide = width_param_8\n",
    "    cntr = width_param_9\n",
    "    skew = width_param_10\n",
    "    mode = cntr + 2 * (inv_sqrt2_PI) * skew * wide / jnp.sqrt(1. + skew * skew)\n",
    "    norm = 1. / (jnp.exp(-0.5 * (mode - cntr)**2 / (wide * wide)) * (1. + erf(skew * (mode - cntr) / (wide * sqrt2))))\n",
    "    omega = norm * A * jnp.exp(-0.5 * (elecFrac - cntr)**2 / (wide * wide)) * (1. + erf(skew * (elecFrac - cntr) / (wide * sqrt2)))\n",
    "    return omega, width_param_10\n"
   ]
  },
  {
   "cell_type": "code",
   "execution_count": 19,
   "metadata": {},
   "outputs": [],
   "source": [
    "@partial(jax.jit, static_argnums=(1))\n",
    "def ER_skew(E, E_field, alpha0=1.39, cc0=4.0, cc1=22.1, E0=7.7, E1=54., E2=26.7, E3=6.4, F0=225., F1=71.):\n",
    "    if E_field < 50 or E_field > 1e4:\n",
    "        return 0.0\n",
    "    else:\n",
    "        return 1. / (1. + jnp.exp((E - E2) / E3)) * (alpha0 + cc0 * jnp.exp(-1. * E_field / F0) * (1. - jnp.exp(-1. * E / E0))) + 1. / (1. + jnp.exp(-1. * (E - E2) / E3)) * cc1 * jnp.exp(-1. * E / E1) * jnp.exp(-1. * jnp.sqrt(E_field) / jnp.sqrt(F1))"
   ]
  },
  {
   "cell_type": "code",
   "execution_count": 20,
   "metadata": {},
   "outputs": [
    {
     "data": {
      "text/plain": [
       "Array(1.05862738, dtype=float64, weak_type=True)"
      ]
     },
     "execution_count": 20,
     "metadata": {},
     "output_type": "execute_result"
    }
   ],
   "source": [
    "ER_skew(100,100)"
   ]
  },
  {
   "cell_type": "code",
   "execution_count": 21,
   "metadata": {},
   "outputs": [],
   "source": [
    "@partial(jax.jit, static_argnums=(1, 2))\n",
    "def marginalized_prob_quantas(E, E_field=23.0, density=2.8619, Nq_bins = jnp.arange(1,1400)-0.5, Nq_bins_centers=jnp.arange(1,1399), Ni_bin_centers=jnp.arange(1,900), Ne_bins=(jnp.linspace(-0,399,400)-0.5)):\n",
    "    '''\n",
    "    $p(N_q, N_i, N_e | E, \\theta)$\n",
    "    Note: plate dim is righmost, specify in numpyro.\n",
    "    dimensions: Ne, Ni, Nq, plate/batch dim\n",
    "    '''\n",
    "    W, alpha = workfunction(density)\n",
    "    m01, m02, m03, m04, m07, m08, m09, m10 = calculate_yield_parameters(E_field)\n",
    "    exciton_ion_ratio = Nei_ratio(E, density, alpha)\n",
    "    mean_N_q, mean_Ne, mean_Nph = get_yields_beta(E, density, exciton_ion_ratio, W, m01=m01, m02=m02, m03=m03, m04=m04, m07=m07, m08=m08, m09=m09, m10=m10)\n",
    "    # fano_factor = fano_ER(mean_N_q, E_field, density)\n",
    "    fano_factor = 1 #For some reason fano got turned off in the latest NEST?\n",
    "    Nq_ps = DiscreteNormalPs(mean_N_q, jnp.sqrt(fano_factor*mean_N_q), bin_edges=Nq_bins)\n",
    "    alf = 1/(1 + exciton_ion_ratio)\n",
    "    Ni_ps = stats.binom.pmf(n=Nq_bins_centers[jnp.newaxis, :,jnp.newaxis], p=alf, k=Ni_bin_centers[:, jnp.newaxis, jnp.newaxis])\n",
    "    # Ni_ps = Ni_ps/jnp.sum(Ni_ps, axis=0)\n",
    "    # Nq_Ni_ps = Nq_ps[:,jnp.newaxis,:] * Ni_ps\n",
    "\n",
    "    e_frac = mean_Ne/mean_N_q\n",
    "    recombProb = 1. - (exciton_ion_ratio + 1.) * e_frac\n",
    "    recomb_omega, _ = recom_omega_ER(E_field, e_frac)\n",
    "    skewness = ER_skew(E, E_field)\n",
    "    # skewness = 10.\n",
    "    recomb_variance = recombProb*(1 - recombProb)*Ni_bin_centers[:, jnp.newaxis, jnp.newaxis] + (recomb_omega*Ni_bin_centers[:, jnp.newaxis, jnp.newaxis])**2\n",
    "    widthCorrection = jnp.sqrt(1. - (2. / jnp.pi) * skewness * skewness / (1. + skewness * skewness))\n",
    "    muCorrection = (jnp.sqrt(recomb_variance) / widthCorrection) * (skewness / jnp.sqrt(1. + skewness * skewness)) * 2. * inv_sqrt2_PI\n",
    "    Ne_mu = (1. - recombProb) * Ni_bin_centers[:, jnp.newaxis, jnp.newaxis] - muCorrection\n",
    "    Ne_sigma = jnp.sqrt(recomb_variance) / widthCorrection\n",
    "    # import pdb; pdb.set_trace()\n",
    "    Ne_ps = DiscreteSkewNormalPs(Ne_mu, Ne_sigma, skewness, bin_edges=Ne_bins[:,jnp.newaxis,jnp.newaxis])\n",
    "    # Ne_ni_nq_ps = Ne_ps*Ni_ps*Nq_ps\n",
    "    return Ne_ps, Ni_ps, Nq_ps\n",
    "    # return Ne_mu, Ne_sigma, skewness\n",
    "\n",
    "    "
   ]
  },
  {
   "cell_type": "code",
   "execution_count": 2,
   "metadata": {},
   "outputs": [],
   "source": [
    "import nestpy"
   ]
  },
  {
   "cell_type": "code",
   "execution_count": 5,
   "metadata": {},
   "outputs": [
    {
     "data": {
      "text/plain": [
       "'2.3.12'"
      ]
     },
     "execution_count": 5,
     "metadata": {},
     "output_type": "execute_result"
    }
   ],
   "source": [
    "nestpy.__nest_version__"
   ]
  },
  {
   "cell_type": "code",
   "execution_count": 22,
   "metadata": {},
   "outputs": [],
   "source": [
    "marg_prob_Ne, marg_prob_Ni, marg_prob_Nq = marginalized_prob_quantas(jnp.array([5.,8.,15.]), E_field=100.0)\n",
    "# jnp.unravel_index(jnp.argmax(marg_probs), marg_probs.shape)"
   ]
  },
  {
   "cell_type": "code",
   "execution_count": 23,
   "metadata": {},
   "outputs": [],
   "source": [
    "# %%timeit\n",
    "# marg_probs = marginalized_prob_quantas(jnp.array([5.,8.,15.]), E_field=100.0)"
   ]
  },
  {
   "cell_type": "code",
   "execution_count": 24,
   "metadata": {},
   "outputs": [
    {
     "data": {
      "text/plain": [
       "(1398, 3)"
      ]
     },
     "execution_count": 24,
     "metadata": {},
     "output_type": "execute_result"
    }
   ],
   "source": [
    "marg_prob_Nq.shape"
   ]
  },
  {
   "cell_type": "code",
   "execution_count": 25,
   "metadata": {},
   "outputs": [],
   "source": [
    "# marg_probs = marg_prob_Ne*marg_prob_Ni*marg_prob_Nq"
   ]
  },
  {
   "cell_type": "code",
   "execution_count": 26,
   "metadata": {},
   "outputs": [
    {
     "data": {
      "text/plain": [
       "12.035135952"
      ]
     },
     "execution_count": 26,
     "metadata": {},
     "output_type": "execute_result"
    }
   ],
   "source": [
    "12035135952/1e9"
   ]
  },
  {
   "cell_type": "code",
   "execution_count": 27,
   "metadata": {},
   "outputs": [
    {
     "data": {
      "text/plain": [
       "Array([[4.49638609e-082, 3.02996404e-130, 1.52283740e-242],\n",
       "       [1.21701603e-081, 8.21425636e-130, 4.13358942e-242],\n",
       "       [3.28512679e-081, 2.22312269e-129, 1.12100822e-241],\n",
       "       ...,\n",
       "       [0.00000000e+000, 0.00000000e+000, 0.00000000e+000],\n",
       "       [0.00000000e+000, 0.00000000e+000, 0.00000000e+000],\n",
       "       [0.00000000e+000, 0.00000000e+000, 0.00000000e+000]],      dtype=float64)"
      ]
     },
     "execution_count": 27,
     "metadata": {},
     "output_type": "execute_result"
    }
   ],
   "source": [
    "marg_prob_Nq"
   ]
  },
  {
   "cell_type": "code",
   "execution_count": 28,
   "metadata": {},
   "outputs": [],
   "source": [
    "# marg_probs.shape"
   ]
  },
  {
   "cell_type": "code",
   "execution_count": 29,
   "metadata": {},
   "outputs": [],
   "source": [
    "# marg_probs"
   ]
  },
  {
   "cell_type": "code",
   "execution_count": 30,
   "metadata": {},
   "outputs": [],
   "source": [
    "# jnp.sum(marg_probs[:,:,:,1])"
   ]
  },
  {
   "cell_type": "code",
   "execution_count": 31,
   "metadata": {},
   "outputs": [],
   "source": [
    "#generate some simulated data using nestpy\n",
    "\n",
    "import nestpy\n",
    "detector = nestpy.VDetector()"
   ]
  },
  {
   "cell_type": "code",
   "execution_count": 32,
   "metadata": {},
   "outputs": [
    {
     "data": {
      "text/plain": [
       "2200.0"
      ]
     },
     "execution_count": 32,
     "metadata": {},
     "output_type": "execute_result"
    }
   ],
   "source": [
    "detector.get_eLife_us()"
   ]
  },
  {
   "cell_type": "code",
   "execution_count": 33,
   "metadata": {},
   "outputs": [
    {
     "data": {
      "text/plain": [
       "60.0"
      ]
     },
     "execution_count": 33,
     "metadata": {},
     "output_type": "execute_result"
    }
   ],
   "source": [
    "detector.get_dt_max()"
   ]
  },
  {
   "cell_type": "code",
   "execution_count": 34,
   "metadata": {},
   "outputs": [
    {
     "name": "stdout",
     "output_type": "stream",
     "text": [
      "Using detector's LXe density, 2.861 g/cc\n"
     ]
    }
   ],
   "source": [
    "A = 131.293 # avg atomic mass of Xe\n",
    "Z = 54. # Atomic number of Xe \n",
    "\n",
    "nc = nestpy.NESTcalc(detector)\n",
    "\n",
    "density = nc.GetDensity( T=detector.get_T_Kelvin(), P=detector.get_p_bar(), inGas=False )\n",
    "print( \"Using detector's LXe density, %.3f g/cc\" % density)"
   ]
  },
  {
   "cell_type": "code",
   "execution_count": 35,
   "metadata": {},
   "outputs": [
    {
     "data": {
      "text/plain": [
       "2.8611000581216786"
      ]
     },
     "execution_count": 35,
     "metadata": {},
     "output_type": "execute_result"
    }
   ],
   "source": [
    "density"
   ]
  },
  {
   "cell_type": "code",
   "execution_count": 36,
   "metadata": {},
   "outputs": [
    {
     "data": {
      "text/plain": [
       "13.554384684687134"
      ]
     },
     "execution_count": 36,
     "metadata": {},
     "output_type": "execute_result"
    }
   ],
   "source": [
    "nc.WorkFunction(density).Wq_eV"
   ]
  },
  {
   "cell_type": "code",
   "execution_count": 37,
   "metadata": {},
   "outputs": [],
   "source": [
    "@np.vectorize\n",
    "def GetQuanta(interaction=nestpy.beta, \n",
    "              energy=100., # energy in keV of the recoil itself\n",
    "              drift_field=100.): # V/cm\n",
    "    \n",
    "    #What's first done in nestpy is getting the yields \n",
    "    #Based on the arguments below; most important, energy, density, field.\n",
    "    #To see the spectrum of these, see nest.ucdavis.edu/benchmarkplots \n",
    "    y = nc.GetYields(interaction,\n",
    "     energy,\n",
    "     density,\n",
    "     drift_field,\n",
    "     A,\n",
    "     Z,\n",
    "    ) \n",
    "    # Then we call nestcalc class' function, GetQuanta \n",
    "    quanta = nc.GetQuanta(y, density)\n",
    "    photons, electrons = quanta.photons, quanta.electrons\n",
    "\n",
    "    return photons, electrons"
   ]
  },
  {
   "cell_type": "code",
   "execution_count": 38,
   "metadata": {},
   "outputs": [],
   "source": [
    "test_E = jnp.array([8]*5000)\n",
    "g1 = 0.105\n",
    "g2 = 17.3\n",
    "SE_gain = 31.8\n",
    "extraction_eff = g2/SE_gain\n",
    "PMT_sigma = 0.8\n",
    "S2_sigma=26"
   ]
  },
  {
   "cell_type": "code",
   "execution_count": 39,
   "metadata": {},
   "outputs": [],
   "source": [
    "Nph_nest, Ne_nest = GetQuanta(energy=test_E)"
   ]
  },
  {
   "cell_type": "code",
   "execution_count": 40,
   "metadata": {},
   "outputs": [
    {
     "data": {
      "text/plain": [
       "array([196, 187, 184, ..., 238, 278, 189])"
      ]
     },
     "execution_count": 40,
     "metadata": {},
     "output_type": "execute_result"
    }
   ],
   "source": [
    "Ne_nest"
   ]
  },
  {
   "cell_type": "code",
   "execution_count": 41,
   "metadata": {},
   "outputs": [],
   "source": [
    "# marg_prob_Ne*marg_prob_Ni*marg_prob_Nq"
   ]
  },
  {
   "cell_type": "code",
   "execution_count": 42,
   "metadata": {},
   "outputs": [
    {
     "data": {
      "text/plain": [
       "(1398, 3)"
      ]
     },
     "execution_count": 42,
     "metadata": {},
     "output_type": "execute_result"
    }
   ],
   "source": [
    "marg_prob_Nq.shape"
   ]
  },
  {
   "cell_type": "code",
   "execution_count": 43,
   "metadata": {},
   "outputs": [],
   "source": [
    "# jnp.sum(marg_prob_Nq * marg_prob_Ni, axis=(1))"
   ]
  },
  {
   "cell_type": "code",
   "execution_count": 44,
   "metadata": {},
   "outputs": [
    {
     "data": {
      "text/plain": [
       "(899, 1398, 3)"
      ]
     },
     "execution_count": 44,
     "metadata": {},
     "output_type": "execute_result"
    }
   ],
   "source": [
    "marg_prob_Ni.shape"
   ]
  },
  {
   "cell_type": "code",
   "execution_count": 45,
   "metadata": {},
   "outputs": [
    {
     "data": {
      "text/plain": [
       "(399, 899, 1, 3)"
      ]
     },
     "execution_count": 45,
     "metadata": {},
     "output_type": "execute_result"
    }
   ],
   "source": [
    "marg_prob_Ne.shape"
   ]
  },
  {
   "cell_type": "code",
   "execution_count": 46,
   "metadata": {},
   "outputs": [
    {
     "data": {
      "text/plain": [
       "(899, 1398, 3)"
      ]
     },
     "execution_count": 46,
     "metadata": {},
     "output_type": "execute_result"
    }
   ],
   "source": [
    "marg_prob_Ni.shape"
   ]
  },
  {
   "cell_type": "code",
   "execution_count": 47,
   "metadata": {},
   "outputs": [
    {
     "data": {
      "text/plain": [
       "(399, 899, 3)"
      ]
     },
     "execution_count": 47,
     "metadata": {},
     "output_type": "execute_result"
    }
   ],
   "source": [
    "marg_prob_Ne[:,:,0,:].shape"
   ]
  },
  {
   "cell_type": "code",
   "execution_count": 48,
   "metadata": {},
   "outputs": [
    {
     "data": {
      "text/plain": [
       "(399, 899, 3)"
      ]
     },
     "execution_count": 48,
     "metadata": {},
     "output_type": "execute_result"
    }
   ],
   "source": [
    "(marg_prob_Ne[:,:,0,:]*jnp.sum(marg_prob_Nq * marg_prob_Ni, axis=(1))).shape"
   ]
  },
  {
   "cell_type": "code",
   "execution_count": 49,
   "metadata": {},
   "outputs": [
    {
     "data": {
      "text/plain": [
       "(1, 899, 1398, 3)"
      ]
     },
     "execution_count": 49,
     "metadata": {},
     "output_type": "execute_result"
    }
   ],
   "source": [
    "marg_prob_Ni[jnp.newaxis, :, :, :].shape"
   ]
  },
  {
   "cell_type": "code",
   "execution_count": 50,
   "metadata": {},
   "outputs": [
    {
     "data": {
      "text/plain": [
       "(399, 899, 1, 3)"
      ]
     },
     "execution_count": 50,
     "metadata": {},
     "output_type": "execute_result"
    }
   ],
   "source": [
    "marg_prob_Ne.shape"
   ]
  },
  {
   "cell_type": "code",
   "execution_count": null,
   "metadata": {},
   "outputs": [],
   "source": []
  },
  {
   "cell_type": "code",
   "execution_count": 51,
   "metadata": {},
   "outputs": [
    {
     "data": {
      "image/png": "[encoded data removed]",
      "text/plain": [
       "<Figure size 1000x800 with 1 Axes>"
      ]
     },
     "metadata": {},
     "output_type": "display_data"
    }
   ],
   "source": [
    "fig = plt.figure(figsize=(5,4), dpi=200)\n",
    "ax = fig.add_subplot(111)\n",
    "plt_x = jnp.linspace(1,399,399, dtype=jnp.float32)-0.5\n",
    "# ax.step(plt_x, jnp.sum(marg_probs[:,:,:,1], axis=(1,2)))\n",
    "# ax.step(plt_x, jnp.einsum('ijk,ijk,ijk  -> i', marg_prob_Ne[:,:,:,1], marg_prob_Nq[jnp.newaxis, jnp.newaxis, :, 1], marg_prob_Ni[jnp.newaxis, :, :, 1]))\n",
    "ax.step(plt_x, jnp.sum(marg_prob_Ne[:,:,0,:]*jnp.sum(marg_prob_Nq * marg_prob_Ni, axis=(1)), axis=(1))[:,1])\n",
    "ax.hist(Ne_nest, density=True, bins=jnp.arange(0,400,3))\n",
    "ax.set(xlabel=r'$N_e$', ylabel='$P(N_e)$')\n",
    "plt.show()"
   ]
  },
  {
   "cell_type": "code",
   "execution_count": 52,
   "metadata": {},
   "outputs": [],
   "source": [
    "Ni_bins_centers = jnp.arange(1,1399)\n",
    "Ni_ps = jnp.zeros_like(Ni_bins_centers)\n",
    "# summed_marg_prob = jnp.sum(marg_probs[:,:,:,1], axis=(1))\n",
    "summed_marg_prob = jnp.triu(jnp.einsum('ijk,ijk,ijk  -> ik', marg_prob_Ne[:,:,:,1], marg_prob_Nq[jnp.newaxis, jnp.newaxis, :, 1], marg_prob_Ni[jnp.newaxis, :, :, 1]))"
   ]
  },
  {
   "cell_type": "code",
   "execution_count": 53,
   "metadata": {},
   "outputs": [],
   "source": [
    "@jit\n",
    "def calculate_Ni_prob_inner_loop(j, i, summed_marg_prob, Ni_bins_centers):\n",
    "    Ni_ps = jnp.zeros_like(Ni_bins_centers, dtype=float)\n",
    "    return Ni_ps.at[j-i].set(summed_marg_prob[i, j] + Ni_ps[j-i])"
   ]
  },
  {
   "cell_type": "code",
   "execution_count": 54,
   "metadata": {},
   "outputs": [],
   "source": [
    "calculate_Ni_prob_inner_loop_vmap = jax.vmap(calculate_Ni_prob_inner_loop, in_axes=(0, None, None, None))"
   ]
  },
  {
   "cell_type": "code",
   "execution_count": 55,
   "metadata": {},
   "outputs": [],
   "source": [
    "@jit\n",
    "def calculate_Ni_prob_outer_loop(i, summed_marg_prob, Ni_bins_centers):\n",
    "    return jnp.sum(calculate_Ni_prob_inner_loop_vmap(jnp.arange(1398), i, jnp.triu(summed_marg_prob), Ni_bins_centers), axis=0)"
   ]
  },
  {
   "cell_type": "code",
   "execution_count": 56,
   "metadata": {},
   "outputs": [
    {
     "name": "stdout",
     "output_type": "stream",
     "text": [
      "156 µs ± 38.8 µs per loop (mean ± std. dev. of 7 runs, 1 loop each)\n"
     ]
    }
   ],
   "source": [
    "%%timeit\n",
    "calculate_Ni_prob_outer_loop(1, summed_marg_prob, Ni_bins_centers)"
   ]
  },
  {
   "cell_type": "code",
   "execution_count": 57,
   "metadata": {},
   "outputs": [
    {
     "data": {
      "text/plain": [
       "(1398,)"
      ]
     },
     "execution_count": 57,
     "metadata": {},
     "output_type": "execute_result"
    }
   ],
   "source": [
    "calculate_Ni_prob_outer_loop(1, summed_marg_prob, Ni_bins_centers).shape"
   ]
  },
  {
   "cell_type": "code",
   "execution_count": 58,
   "metadata": {},
   "outputs": [],
   "source": [
    "calculate_Ni_prob_outer_loop_vmap = jax.vmap(calculate_Ni_prob_outer_loop, in_axes=(0, None, None,))"
   ]
  },
  {
   "cell_type": "code",
   "execution_count": 59,
   "metadata": {},
   "outputs": [
    {
     "data": {
      "text/plain": [
       "(12, 1398)"
      ]
     },
     "execution_count": 59,
     "metadata": {},
     "output_type": "execute_result"
    }
   ],
   "source": [
    "calculate_Ni_prob_outer_loop_vmap(jnp.arange(12), jnp.triu(summed_marg_prob), Ni_bins_centers).shape"
   ]
  },
  {
   "cell_type": "code",
   "execution_count": 60,
   "metadata": {},
   "outputs": [],
   "source": [
    "@jit\n",
    "def compute_Ni_ps(summed_marg_prob, Ni_bins_centers):\n",
    "    Ni_ps = jnp.zeros_like(Ni_bins_centers, dtype=float)\n",
    "    for i in jnp.arange(399):\n",
    "        Ni_ps += jnp.sum(calculate_Ni_prob_inner_loop_vmap(jnp.arange(0, 1398), i, (summed_marg_prob), Ni_bins_centers), axis=0)\n",
    "    return Ni_ps"
   ]
  },
  {
   "cell_type": "code",
   "execution_count": 61,
   "metadata": {},
   "outputs": [
    {
     "name": "stdout",
     "output_type": "stream",
     "text": [
      "447 µs ± 50.6 µs per loop (mean ± std. dev. of 7 runs, 1 loop each)\n"
     ]
    }
   ],
   "source": [
    "%%timeit\n",
    "compute_Ni_ps(summed_marg_prob, Ni_bins_centers)"
   ]
  },
  {
   "cell_type": "code",
   "execution_count": 62,
   "metadata": {},
   "outputs": [],
   "source": [
    "Ni_ps = compute_Ni_ps(summed_marg_prob, Ni_bins_centers)"
   ]
  },
  {
   "cell_type": "code",
   "execution_count": 63,
   "metadata": {},
   "outputs": [
    {
     "name": "stdout",
     "output_type": "stream",
     "text": [
      " "
     ]
    },
    {
     "name": "stdout",
     "output_type": "stream",
     "text": [
      "         3 function calls in 0.007 seconds\n",
      "\n",
      "   Ordered by: internal time\n",
      "\n",
      "   ncalls  tottime  percall  cumtime  percall filename:lineno(function)\n",
      "        1    0.007    0.007    0.007    0.007 <string>:1(<module>)\n",
      "        1    0.000    0.000    0.007    0.007 {built-in method builtins.exec}\n",
      "        1    0.000    0.000    0.000    0.000 {method 'disable' of '_lsprof.Profiler' objects}"
     ]
    }
   ],
   "source": [
    "%prun compute_Ni_ps(summed_marg_prob, Ni_bins_centers)"
   ]
  },
  {
   "cell_type": "code",
   "execution_count": 64,
   "metadata": {},
   "outputs": [
    {
     "data": {
      "text/plain": [
       "Array(0.99999759, dtype=float64)"
      ]
     },
     "execution_count": 64,
     "metadata": {},
     "output_type": "execute_result"
    }
   ],
   "source": [
    "jnp.sum(Ni_ps)"
   ]
  },
  {
   "cell_type": "code",
   "execution_count": 65,
   "metadata": {},
   "outputs": [
    {
     "data": {
      "image/png": "[encoded data removed]",
      "text/plain": [
       "<Figure size 1000x800 with 1 Axes>"
      ]
     },
     "metadata": {},
     "output_type": "display_data"
    }
   ],
   "source": [
    "fig = plt.figure(figsize=(5,4), dpi=200)\n",
    "ax = fig.add_subplot(111)\n",
    "plt_x = jnp.linspace(1,1398,1398, dtype=jnp.float32)-0.5\n",
    "ax.step(plt_x, Ni_ps)\n",
    "ax.hist(Nph_nest, density=True, bins=jnp.arange(0,500,3))\n",
    "ax.set(xlabel=r'$N_i$', ylabel='$P(N_i)$')\n",
    "plt.show()"
   ]
  },
  {
   "cell_type": "code",
   "execution_count": 81,
   "metadata": {},
   "outputs": [],
   "source": [
    "a = [1,2,3,4,5]*100\n",
    "b = [1,2,3,4,5]*100"
   ]
  },
  {
   "cell_type": "code",
   "execution_count": 82,
   "metadata": {},
   "outputs": [
    {
     "name": "stdout",
     "output_type": "stream",
     "text": [
      "19.7 µs ± 195 ns per loop (mean ± std. dev. of 7 runs, 10,000 loops each)\n"
     ]
    }
   ],
   "source": [
    "%%timeit\n",
    "c = []\n",
    "for i in range(len(a)):\n",
    "    c.append(a[i]+b[i])"
   ]
  },
  {
   "cell_type": "code",
   "execution_count": 83,
   "metadata": {},
   "outputs": [
    {
     "name": "stdout",
     "output_type": "stream",
     "text": [
      "19.1 µs ± 277 ns per loop (mean ± std. dev. of 7 runs, 100,000 loops each)\n"
     ]
    }
   ],
   "source": [
    "%%timeit\n",
    "c = [a[i] + b[i] for i in range(len(a))]"
   ]
  },
  {
   "cell_type": "code",
   "execution_count": 84,
   "metadata": {},
   "outputs": [
    {
     "name": "stdout",
     "output_type": "stream",
     "text": [
      "32.5 µs ± 153 ns per loop (mean ± std. dev. of 7 runs, 10,000 loops each)\n"
     ]
    }
   ],
   "source": [
    "%%timeit\n",
    "c = list(map(sum, zip(a, b)))"
   ]
  },
  {
   "cell_type": "code",
   "execution_count": null,
   "metadata": {},
   "outputs": [],
   "source": []
  }
 ],
 "metadata": {
  "kernelspec": {
   "display_name": "numpyro_gpu",
   "language": "python",
   "name": "numpyro_gpu"
  }
 },
 "nbformat": 4,
 "nbformat_minor": 4
}
